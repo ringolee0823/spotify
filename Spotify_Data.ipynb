{
 "cells": [
  {
   "cell_type": "markdown",
   "metadata": {
    "tags": []
   },
   "source": [
    "# import"
   ]
  },
  {
   "cell_type": "code",
   "execution_count": 1,
   "metadata": {
    "tags": []
   },
   "outputs": [],
   "source": [
    "%load_ext autoreload\n",
    "%autoreload 2"
   ]
  },
  {
   "cell_type": "code",
   "execution_count": 2,
   "metadata": {},
   "outputs": [],
   "source": [
    "from Scraper_Ranking import Rankings\n",
    "from Scraper_Feature import Features\n",
    "from pathlib import Path\n",
    "import pandas as pd\n",
    "import dask, sqlite3, json\n",
    "from dask.diagnostics import ProgressBar\n",
    "from sqlalchemy import create_engine"
   ]
  },
  {
   "cell_type": "markdown",
   "metadata": {
    "tags": []
   },
   "source": [
    "# Ranking"
   ]
  },
  {
   "cell_type": "code",
   "execution_count": 3,
   "metadata": {
    "colab": {
     "base_uri": "https://localhost:8080/"
    },
    "id": "_n7G-7TdhBT8",
    "outputId": "36e32702-c896-4975-c94a-6a56580e0760",
    "tags": []
   },
   "outputs": [],
   "source": [
    "rankings = Rankings()"
   ]
  },
  {
   "cell_type": "code",
   "execution_count": 4,
   "metadata": {
    "tags": []
   },
   "outputs": [
    {
     "name": "stdout",
     "output_type": "stream",
     "text": [
      "----------All Records Downloaded---------\n"
     ]
    }
   ],
   "source": [
    "rankings.check_if_downloaded();"
   ]
  },
  {
   "cell_type": "code",
   "execution_count": 5,
   "metadata": {
    "tags": []
   },
   "outputs": [
    {
     "name": "stdout",
     "output_type": "stream",
     "text": [
      "----------All Records Downloaded---------\n"
     ]
    }
   ],
   "source": [
    "rankings.download_new_data()"
   ]
  },
  {
   "cell_type": "code",
   "execution_count": 6,
   "metadata": {
    "tags": []
   },
   "outputs": [
    {
     "name": "stdout",
     "output_type": "stream",
     "text": [
      "----------No oustanding record to update to db----------\n"
     ]
    }
   ],
   "source": [
    "rankings.update_ranking_db()"
   ]
  },
  {
   "cell_type": "code",
   "execution_count": 7,
   "metadata": {},
   "outputs": [],
   "source": [
    "# df_rankings = rankings.import_from_db(\"SELECT * FROM Ranking\")\n",
    "# df_rankings = df_rankings.drop(columns=['url', 'image']).reset_indexx()\n",
    "# df_rankings.to_feather(rankings.data_dir / 'df_rankings')"
   ]
  },
  {
   "cell_type": "code",
   "execution_count": 8,
   "metadata": {},
   "outputs": [
    {
     "data": {
      "text/html": [
       "<div>\n",
       "<style scoped>\n",
       "    .dataframe tbody tr th:only-of-type {\n",
       "        vertical-align: middle;\n",
       "    }\n",
       "\n",
       "    .dataframe tbody tr th {\n",
       "        vertical-align: top;\n",
       "    }\n",
       "\n",
       "    .dataframe thead th {\n",
       "        text-align: right;\n",
       "    }\n",
       "</style>\n",
       "<table border=\"1\" class=\"dataframe\">\n",
       "  <thead>\n",
       "    <tr style=\"text-align: right;\">\n",
       "      <th></th>\n",
       "      <th>0</th>\n",
       "    </tr>\n",
       "  </thead>\n",
       "  <tbody>\n",
       "    <tr>\n",
       "      <th>date</th>\n",
       "      <td>2017-01-01 00:00:00.000000</td>\n",
       "    </tr>\n",
       "    <tr>\n",
       "      <th>country_code</th>\n",
       "      <td>ar</td>\n",
       "    </tr>\n",
       "    <tr>\n",
       "      <th>position</th>\n",
       "      <td>1</td>\n",
       "    </tr>\n",
       "    <tr>\n",
       "      <th>artist</th>\n",
       "      <td>Shakira</td>\n",
       "    </tr>\n",
       "    <tr>\n",
       "      <th>track</th>\n",
       "      <td>Chantaje (feat. Maluma)</td>\n",
       "    </tr>\n",
       "    <tr>\n",
       "      <th>track_id</th>\n",
       "      <td>6mICuAdrwEjh6Y6lroV2Kg</td>\n",
       "    </tr>\n",
       "    <tr>\n",
       "      <th>streams</th>\n",
       "      <td>253019</td>\n",
       "    </tr>\n",
       "  </tbody>\n",
       "</table>\n",
       "</div>"
      ],
      "text/plain": [
       "                                       0\n",
       "date          2017-01-01 00:00:00.000000\n",
       "country_code                          ar\n",
       "position                               1\n",
       "artist                           Shakira\n",
       "track            Chantaje (feat. Maluma)\n",
       "track_id          6mICuAdrwEjh6Y6lroV2Kg\n",
       "streams                           253019"
      ]
     },
     "execution_count": 8,
     "metadata": {},
     "output_type": "execute_result"
    }
   ],
   "source": [
    "df_rankings = pd.read_feather(rankings.data_dir / 'df_rankings')\n",
    "df_rankings.head(1).T"
   ]
  },
  {
   "cell_type": "markdown",
   "metadata": {
    "tags": []
   },
   "source": [
    "# Track"
   ]
  },
  {
   "cell_type": "markdown",
   "metadata": {},
   "source": [
    "## Audio Feature"
   ]
  },
  {
   "cell_type": "code",
   "execution_count": 9,
   "metadata": {},
   "outputs": [],
   "source": [
    "features = Features()"
   ]
  },
  {
   "cell_type": "code",
   "execution_count": 10,
   "metadata": {
    "tags": []
   },
   "outputs": [
    {
     "name": "stdout",
     "output_type": "stream",
     "text": [
      "Loading features...\n",
      "No result for track 4L9KXO266JC2VpNJ7TQwhH\n",
      "No result for track 37E2Ld7fZIl9NjVlvlO9OU\n",
      "No result for track 1azXDEz0VyJzPUfjq3dxJZ\n",
      "No result for track 4IjwENtDPy4KqpnU9iBBca\n",
      "No result for track 2DEYFawpGha5Zn54Fx6dX5\n",
      "No result for track 3uMIfxV8q5tPTWzJh8s6Mk\n",
      "No result for track 51Ss1yLa32T4zi3C82QkZF\n",
      "No result for track 0vcQZpthiccMvMlYv2YPzd\n",
      "No result for track 6zQhJcyuZGX7ADNMZF1VHL\n",
      "No result for track 1TJcRYplHeuarCFzv625ff\n",
      "No result for track 5KwFoU4ZlBbuKvNosAjYKo\n",
      "No result for track 7sFnb9vK5q0wlfAQRUZITs\n",
      "No result for track 1K3qfNiMOzI5cbILMuWnRN\n",
      "No result for track 59o6ojGNGJOYiVJSzC6Lsa\n",
      "No result for track 1ItF8BZ8ezUWCKuI0BfRuU\n",
      "\n"
     ]
    }
   ],
   "source": [
    "features.get_features_by_df(df_rankings);"
   ]
  },
  {
   "cell_type": "code",
   "execution_count": 11,
   "metadata": {},
   "outputs": [
    {
     "data": {
      "text/html": [
       "<div>\n",
       "<style scoped>\n",
       "    .dataframe tbody tr th:only-of-type {\n",
       "        vertical-align: middle;\n",
       "    }\n",
       "\n",
       "    .dataframe tbody tr th {\n",
       "        vertical-align: top;\n",
       "    }\n",
       "\n",
       "    .dataframe thead th {\n",
       "        text-align: right;\n",
       "    }\n",
       "</style>\n",
       "<table border=\"1\" class=\"dataframe\">\n",
       "  <thead>\n",
       "    <tr style=\"text-align: right;\">\n",
       "      <th></th>\n",
       "      <th>danceability</th>\n",
       "      <th>energy</th>\n",
       "      <th>key</th>\n",
       "      <th>loudness</th>\n",
       "      <th>mode</th>\n",
       "      <th>speechiness</th>\n",
       "      <th>acousticness</th>\n",
       "      <th>instrumentalness</th>\n",
       "      <th>liveness</th>\n",
       "      <th>valence</th>\n",
       "      <th>tempo</th>\n",
       "      <th>type</th>\n",
       "      <th>track_id</th>\n",
       "      <th>uri</th>\n",
       "      <th>track_href</th>\n",
       "      <th>analysis_url</th>\n",
       "      <th>duration_ms</th>\n",
       "      <th>time_signature</th>\n",
       "    </tr>\n",
       "  </thead>\n",
       "  <tbody>\n",
       "    <tr>\n",
       "      <th>0</th>\n",
       "      <td>0.329</td>\n",
       "      <td>0.0879</td>\n",
       "      <td>4</td>\n",
       "      <td>-23.27</td>\n",
       "      <td>1</td>\n",
       "      <td>0.0504</td>\n",
       "      <td>0.994</td>\n",
       "      <td>0.00524</td>\n",
       "      <td>0.0811</td>\n",
       "      <td>0.251</td>\n",
       "      <td>125.624</td>\n",
       "      <td>audio_features</td>\n",
       "      <td>0JuQRDHu30i7MYV2HKfXRm</td>\n",
       "      <td>spotify:track:0JuQRDHu30i7MYV2HKfXRm</td>\n",
       "      <td>https://api.spotify.com/v1/tracks/0JuQRDHu30i7...</td>\n",
       "      <td>https://api.spotify.com/v1/audio-analysis/0JuQ...</td>\n",
       "      <td>136747</td>\n",
       "      <td>3</td>\n",
       "    </tr>\n",
       "  </tbody>\n",
       "</table>\n",
       "</div>"
      ],
      "text/plain": [
       "   danceability  energy  key  loudness  mode  speechiness  acousticness  \\\n",
       "0         0.329  0.0879    4    -23.27     1       0.0504         0.994   \n",
       "\n",
       "   instrumentalness  liveness  valence    tempo            type  \\\n",
       "0           0.00524    0.0811    0.251  125.624  audio_features   \n",
       "\n",
       "                 track_id                                   uri  \\\n",
       "0  0JuQRDHu30i7MYV2HKfXRm  spotify:track:0JuQRDHu30i7MYV2HKfXRm   \n",
       "\n",
       "                                          track_href  \\\n",
       "0  https://api.spotify.com/v1/tracks/0JuQRDHu30i7...   \n",
       "\n",
       "                                        analysis_url  duration_ms  \\\n",
       "0  https://api.spotify.com/v1/audio-analysis/0JuQ...       136747   \n",
       "\n",
       "   time_signature  \n",
       "0               3  "
      ]
     },
     "execution_count": 11,
     "metadata": {},
     "output_type": "execute_result"
    }
   ],
   "source": [
    "df_features = pd.read_csv(rankings.data_dir / 'df_features.csv')\n",
    "df_features.head(1)"
   ]
  },
  {
   "cell_type": "code",
   "execution_count": 12,
   "metadata": {},
   "outputs": [
    {
     "data": {
      "text/plain": [
       "119758"
      ]
     },
     "execution_count": 12,
     "metadata": {},
     "output_type": "execute_result"
    }
   ],
   "source": [
    "len(df_features)"
   ]
  },
  {
   "cell_type": "markdown",
   "metadata": {},
   "source": [
    "## Track Information"
   ]
  },
  {
   "cell_type": "code",
   "execution_count": 13,
   "metadata": {
    "tags": []
   },
   "outputs": [
    {
     "name": "stdout",
     "output_type": "stream",
     "text": [
      "Loading info...\n",
      "\n"
     ]
    }
   ],
   "source": [
    "features.get_track_info_by_df(df_rankings);"
   ]
  },
  {
   "cell_type": "code",
   "execution_count": 14,
   "metadata": {},
   "outputs": [
    {
     "data": {
      "text/html": [
       "<div>\n",
       "<style scoped>\n",
       "    .dataframe tbody tr th:only-of-type {\n",
       "        vertical-align: middle;\n",
       "    }\n",
       "\n",
       "    .dataframe tbody tr th {\n",
       "        vertical-align: top;\n",
       "    }\n",
       "\n",
       "    .dataframe thead th {\n",
       "        text-align: right;\n",
       "    }\n",
       "</style>\n",
       "<table border=\"1\" class=\"dataframe\">\n",
       "  <thead>\n",
       "    <tr style=\"text-align: right;\">\n",
       "      <th></th>\n",
       "      <th>0</th>\n",
       "    </tr>\n",
       "  </thead>\n",
       "  <tbody>\n",
       "    <tr>\n",
       "      <th>track_id</th>\n",
       "      <td>4NM72r7orR4QPkgox7astH</td>\n",
       "    </tr>\n",
       "    <tr>\n",
       "      <th>track_popularity</th>\n",
       "      <td>67</td>\n",
       "    </tr>\n",
       "    <tr>\n",
       "      <th>artists_name</th>\n",
       "      <td>Bastille</td>\n",
       "    </tr>\n",
       "    <tr>\n",
       "      <th>artists_id</th>\n",
       "      <td>7EQ0qTo7fWT7DPxmxtSYEc</td>\n",
       "    </tr>\n",
       "    <tr>\n",
       "      <th>album_id</th>\n",
       "      <td>6QwZ44ldGwp9W7DoJ8bwyw</td>\n",
       "    </tr>\n",
       "    <tr>\n",
       "      <th>album_release_date</th>\n",
       "      <td>2021-10-19</td>\n",
       "    </tr>\n",
       "    <tr>\n",
       "      <th>image_640</th>\n",
       "      <td>https://i.scdn.co/image/ab67616d0000b2734e01a2...</td>\n",
       "    </tr>\n",
       "  </tbody>\n",
       "</table>\n",
       "</div>"
      ],
      "text/plain": [
       "                                                                    0\n",
       "track_id                                       4NM72r7orR4QPkgox7astH\n",
       "track_popularity                                                   67\n",
       "artists_name                                                 Bastille\n",
       "artists_id                                     7EQ0qTo7fWT7DPxmxtSYEc\n",
       "album_id                                       6QwZ44ldGwp9W7DoJ8bwyw\n",
       "album_release_date                                         2021-10-19\n",
       "image_640           https://i.scdn.co/image/ab67616d0000b2734e01a2..."
      ]
     },
     "execution_count": 14,
     "metadata": {},
     "output_type": "execute_result"
    }
   ],
   "source": [
    "df_track_info = pd.read_csv(rankings.data_dir / 'df_track_info.csv')\n",
    "df_track_info.head(1).T"
   ]
  },
  {
   "cell_type": "markdown",
   "metadata": {},
   "source": [
    "## Genres"
   ]
  },
  {
   "cell_type": "code",
   "execution_count": 15,
   "metadata": {
    "tags": []
   },
   "outputs": [
    {
     "name": "stdout",
     "output_type": "stream",
     "text": [
      "world-music:#0                         \r"
     ]
    }
   ],
   "source": [
    "features.get_genres_by_random(loop=1)"
   ]
  },
  {
   "cell_type": "code",
   "execution_count": 16,
   "metadata": {},
   "outputs": [
    {
     "data": {
      "text/html": [
       "<div>\n",
       "<style scoped>\n",
       "    .dataframe tbody tr th:only-of-type {\n",
       "        vertical-align: middle;\n",
       "    }\n",
       "\n",
       "    .dataframe tbody tr th {\n",
       "        vertical-align: top;\n",
       "    }\n",
       "\n",
       "    .dataframe thead th {\n",
       "        text-align: right;\n",
       "    }\n",
       "</style>\n",
       "<table border=\"1\" class=\"dataframe\">\n",
       "  <thead>\n",
       "    <tr style=\"text-align: right;\">\n",
       "      <th></th>\n",
       "      <th>0</th>\n",
       "      <th>1</th>\n",
       "      <th>2</th>\n",
       "    </tr>\n",
       "  </thead>\n",
       "  <tbody>\n",
       "    <tr>\n",
       "      <th>track_id</th>\n",
       "      <td>000NcmImetfaUDMhyzvlSh</td>\n",
       "      <td>000xQL6tZNLJzIrtIgxqSl</td>\n",
       "      <td>0016o3OMJKPrDKj6yFwkGs</td>\n",
       "    </tr>\n",
       "    <tr>\n",
       "      <th>genre</th>\n",
       "      <td>minimal-techno</td>\n",
       "      <td>pop</td>\n",
       "      <td>afrobeat</td>\n",
       "    </tr>\n",
       "  </tbody>\n",
       "</table>\n",
       "</div>"
      ],
      "text/plain": [
       "                               0                       1  \\\n",
       "track_id  000NcmImetfaUDMhyzvlSh  000xQL6tZNLJzIrtIgxqSl   \n",
       "genre             minimal-techno                     pop   \n",
       "\n",
       "                               2  \n",
       "track_id  0016o3OMJKPrDKj6yFwkGs  \n",
       "genre                   afrobeat  "
      ]
     },
     "execution_count": 16,
     "metadata": {},
     "output_type": "execute_result"
    }
   ],
   "source": [
    "df_genre = pd.read_csv(rankings.data_dir / 'df_genre.csv')\n",
    "df_genre = df_genre.groupby('track_id', as_index=False)[['genre']].agg(lambda x: ', '.join(sorted(set(x))))\n",
    "df_genre.head(3).T"
   ]
  }
 ],
 "metadata": {
  "colab": {
   "authorship_tag": "ABX9TyOcyrSog6TLXHLlq6IczAT3",
   "collapsed_sections": [],
   "include_colab_link": true,
   "name": "SpotifyChartData.ipynb",
   "provenance": []
  },
  "kernelspec": {
   "display_name": "Python 3 (ipykernel)",
   "language": "python",
   "name": "python3"
  },
  "language_info": {
   "codemirror_mode": {
    "name": "ipython",
    "version": 3
   },
   "file_extension": ".py",
   "mimetype": "text/x-python",
   "name": "python",
   "nbconvert_exporter": "python",
   "pygments_lexer": "ipython3",
   "version": "3.8.2"
  },
  "toc-autonumbering": true,
  "toc-showcode": false
 },
 "nbformat": 4,
 "nbformat_minor": 4
}
